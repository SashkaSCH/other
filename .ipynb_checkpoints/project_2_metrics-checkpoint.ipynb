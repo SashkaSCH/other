{
 "cells": [
  {
   "cell_type": "markdown",
   "id": "emerging-atlanta",
   "metadata": {},
   "source": [
    "## Описание проекта"
   ]
  },
  {
   "cell_type": "markdown",
   "id": "linear-reaction",
   "metadata": {},
   "source": [
    "Вас пригласили на стажировку в отдел маркетинговой аналитики Яндекс.Афиши. \n",
    "\n",
    "Первое задание: помочь маркетологам снизить расходы — отказаться от невыгодных источников трафика и перераспределить бюджет.\n",
    "\n",
    "\n",
    "Есть данные Яндекс.Афиши с июня 2017 по конец мая 2018 года:\n",
    "- лог сервера с данными о посещениях сайта Яндекс.Афиши,\n",
    "- выгрузка всех заказов за этот период,\n",
    "- статистика рекламных расходов.\n",
    "\n",
    "Вам предстоит изучить:\n",
    "* как клиенты пользуются сервисом,\n",
    "* когда делают первые покупки на сайте,\n",
    "* сколько денег приносит компании каждый клиент,\n",
    "* когда расходы на привлечение клиента окупаются.\n",
    "\n",
    "\n",
    "Выручка измеряется в условных единицах — **у.е.**"
   ]
  },
  {
   "cell_type": "markdown",
   "id": "personal-supervisor",
   "metadata": {},
   "source": [
    "# Инструкция\n",
    "\n",
    "## Шаг 1. Загрузите данные и подготовьте их к анализу\n",
    "\n",
    "1.1. Положите данные о визитах, заказах и рекламных расходах в переменные;\n",
    "\n",
    "1.2. Подготовьте данные. Убедитесь, что тип данных во всех колонках соответствует сохранённым в них значениям.\n",
    "\n",
    "## Шаг 2. Рассчитайте метрики и постройте графики\n",
    "\n",
    "Посчитайте метрики трёх видов:\n",
    "* продуктовые,\n",
    "* метрики электронной коммерции,\n",
    "* маркетинговые.\n",
    "\n",
    "Отобразите на графиках изменения каждой метрики во времени. Всякий раз старайтесь подобрать наиболее подходящий тип визуализации: в некоторых случаях может быть уместна тепловая карта когортного анализа.\n",
    "\n",
    "После каждого пункта сформулируйте выводы.\n",
    "\n",
    "## Как рассчитать метрики\n",
    "\n",
    "* 2.1. Продуктовые метрики\n",
    "    * 2.1.1. Рассчитайте DAU, WAU и MAU. Вычислите средние значения этих метрик за весь период. Отобразите изменения метрик во времени на графиках;\n",
    "    * 2.1.2. Определите, сколько раз за день пользователи в среднем заходят на сайт. Постройте график, отражающий изменения метрики во времени;\n",
    "    * 2.1.3. Исследуйте, сколько времени пользователи проводят на сайте. Узнайте продолжительность типичной пользовательской сессии за весь период. Чтобы выбрать подходящую среднюю меру, постройте график распределения. Изменение продолжительности сессий во времени изучать необязательно;\n",
    "    * 2.1.4. Рассчитайте Retention Rate, применяя когортный анализ. Покажите изменения метрики во времени на графике. Найдите средний Retention Rate на второй месяц «жизни» когорт.\n",
    "* 2.2. Метрики электронной коммерции\n",
    "    * 2.2.1. Исследуйте, сколько времени в среднем проходит с момента первого посещения сайта до совершения покупки. Изучать изменение этой метрики во времени необязательно;\n",
    "    * 2.2.2. Применяя когортный анализ или другой метод, рассчитайте среднее количество покупок на одного покупателя за определённый период, например за 6 месяцев. Изучать изменение этой метрики во времени необязательно;\n",
    "    * 2.2.3. Рассчитайте средний чек, применяя группировку по времени совершения покупки. Когортный анализ не подходит — он может исказить расчёты. Постройте график, отражающий изменения метрики во времени;\n",
    "    * 2.2.4. Выясните, как меняется LTV на покупателя по когортам. Помните, что LTV — накопительная метрика. Рассчитайте средний LTV по когортам за 6 месяцев; в расчёт включайте когорты, «прожившие» не менее 6 месяцев. Маржинальность сервиса — 100%. Отразите изменения метрики во времени на графике;\n",
    "    \n",
    "* 2.3. Маркетинговые метрики\n",
    "    **(Посчитайте и отобразите на графиках, как маркетинговые метрики различаются по рекламным источникам.\n",
    "Один и тот же пользователь мог заходить на сайт из нескольких источников, поэтому важно определить «главный» источник для каждого и учитывать это в расчётах. Например, главным может стать первый источник перехода.)**\n",
    "\n",
    "    * 2.3.1. Посчитайте общую сумму расходов на маркетинг. Выясните, как траты распределены по источникам. Визуализируйте изменения метрик во времени;\n",
    "    * 2.3.2. Рассчитайте средний CAC на одного покупателя для всего проекта и для каждого источника трафика. Отразите изменения метрик на графиках;\n",
    "    * 2.3.3. Рассчитайте ROMI по когортам в разрезе источников. Сравните окупаемость за одинаковые периоды жизни когорт. \n",
    "    \n",
    "Обратите внимание, что клиенты, пришедшие из разных источников, могут иметь разный LTV. Постройте графики, отражающие изменения метрик во времени.\n",
    "\n",
    "## Шаг 3. Сформулируйте выводы и рекомендации\n",
    "\n",
    "* 3.1. Определите источники трафика, на которые маркетологам стоит делать упор. Объясните свой выбор: на какие метрики вы ориентируетесь и почему;\n",
    "* 3.2. Опишите выводы, которые вы сделали после подсчёта метрик каждого вида: маркетинговых, продуктовых и метрик электронной коммерции;\n",
    "* 3.3. Подведите итоги когортного анализа. Определите самые перспективные для компании когорты клиентов;\n",
    "\n",
    "## Описание данных\n",
    "\n",
    "В вашем распоряжении три датасета.\n",
    "\n",
    "Файл `visits_log.csv` хранит лог сервера с информацией о посещениях сайта, `orders_log.csv` — информацию о заказах, а `costs.csv` — информацию о расходах на маркетинг.\n",
    "\n",
    "\n",
    "Структура `visits_log.csv`:\n",
    "\n",
    "* `Uid` — уникальный идентификатор пользователя,\n",
    "* `Device` — категория устройства пользователя,\n",
    "* `Start Ts` — дата и время начала сессии,\n",
    "* `End Ts` — дата и время окончания сессии,\n",
    "* `Source Id` — идентификатор источника перехода на сайт.\n",
    "\n",
    "\n",
    "Структура `orders_log.csv`:\n",
    "\n",
    "* `Uid` — уникальный идентификатор пользователя,\n",
    "* `Buy Ts` — дата и время заказа,\n",
    "* `Revenue` — сумма заказа.\n",
    "\n",
    "\n",
    "Структура `costs.csv`:\n",
    "\n",
    "* `source_id` — идентификатор рекламного источника,\n",
    "* `dt` — дата проведения рекламной кампании,\n",
    "* `costs` — расходы на эту кампанию.\n"
   ]
  },
  {
   "cell_type": "markdown",
   "id": "copyrighted-quilt",
   "metadata": {},
   "source": [
    "# Библиотеки"
   ]
  },
  {
   "cell_type": "code",
   "execution_count": 1,
   "id": "smoking-being",
   "metadata": {},
   "outputs": [],
   "source": [
    "import pandas as pd\n"
   ]
  },
  {
   "cell_type": "markdown",
   "id": "private-patent",
   "metadata": {},
   "source": [
    "# Содержание:\n",
    "\n",
    "- [Шаг 1. Загрузка данных и подготовка их к анализу](#1)\n",
    "    - [1.1. Положите данные о визитах, заказах и рекламных расходах в переменные](#1.1)\n",
    "    - [1.2. Подготовьте данные. Убедитесь, что тип данных во всех колонках соответствует сохранённым в них значениям.](#1.2)\n",
    "        - [1.2.1. visits_log](#1.2.1)\n",
    "        - [1.2.2. orders_log](#1.2.2)\n",
    "        - [1.2.3. costs](#1.2.3)\n",
    "    - [Вывод подраздела](#1.3)\n",
    "    \n",
    "    \n",
    "- [Шаг 2. Рассчитайте метрики и постройте графики](#2)\n",
    "    - [2.1. Продуктовые метрики](#2.1)\n",
    "        - [2.1.1. Рассчитайте DAU, WAU и MAU. Вычислите средние значения этих метрик за весь период. Отобразите изменения метрик во времени на графиках](#2.1.1)\n",
    "        - [2.1.2. Определите, сколько раз за день пользователи в среднем заходят на сайт. Постройте график, отражающий изменения метрики во времени](#2.1.2)\n",
    "        - [2.1.3. Исследуйте, сколько времени пользователи проводят на сайте. Узнайте продолжительность типичной пользовательской сессии за весь период. Чтобы выбрать подходящую среднюю меру, постройте график распределения. Изменение продолжительности сессий во времени изучать необязательно](#2.1.3)\n",
    "        - [2.1.4. Рассчитайте Retention Rate, применяя когортный анализ. Покажите изменения метрики во времени на графике. Найдите средний Retention Rate на второй месяц «жизни» когорт](#2.1.4)\n",
    "    - [2.2. Метрики электронной коммерции](#2.1)\n",
    "        - [2.2.1. Исследуйте, сколько времени в среднем проходит с момента первого посещения сайта до совершения покупки. Изучать изменение этой метрики во времени необязательно](#2.2.1)\n",
    "        - [2.2.2. Применяя когортный анализ или другой метод, рассчитайте среднее количество покупок на одного покупателя за определённый период, например за 6 месяцев. Изучать изменение этой метрики во времени необязательно](#2.2.2)\n",
    "        - [2.2.3. Рассчитайте средний чек, применяя группировку по времени совершения покупки. Когортный анализ не подходит — он может исказить расчёты. Постройте график, отражающий изменения метрики во времени](#2.2.3)\n",
    "        - [2.2.4. Выясните, как меняется LTV на покупателя по когортам. Помните, что LTV — накопительная метрика. Рассчитайте средний LTV по когортам за 6 месяцев; в расчёт включайте когорты, «прожившие» не менее 6 месяцев. Маржинальность сервиса — 100%. Отразите изменения метрики во времени на графике](#2.2.4)\n",
    "    - [2.3. Маркетинговые метрики](#2.1)\n",
    "        - [2.3.1. Посчитайте общую сумму расходов на маркетинг. Выясните, как траты распределены по источникам. Визуализируйте изменения метрик во времени](#2.3.1)\n",
    "        - [2.3.2. Рассчитайте средний CAC на одного покупателя для всего проекта и для каждого источника трафика. Отразите изменения метрик на графиках](#2.3.2)\n",
    "        - [2.3.3. Рассчитайте ROMI по когортам в разрезе источников. Сравните окупаемость за одинаковые периоды жизни когорт](#2.3.3)\n",
    "        \n",
    "        \n",
    "- [Шаг 3. Сформулируйте выводы и рекомендации](#3)\n",
    "    - [3.1. Определите источники трафика, на которые маркетологам стоит делать упор. Объясните свой выбор: на какие метрики вы ориентируетесь и почему](#3.1)\n",
    "    - [3.2. Опишите выводы, которые вы сделали после подсчёта метрик каждого вида: маркетинговых, продуктовых и метрик электронной коммерции](#3.2)\n",
    "    - [3.3. Подведите итоги когортного анализа. Определите самые перспективные для компании когорты клиентов](#3.3)"
   ]
  },
  {
   "cell_type": "markdown",
   "id": "seeing-uniform",
   "metadata": {},
   "source": [
    "# Выполнение проекта"
   ]
  },
  {
   "cell_type": "markdown",
   "id": "helpful-bench",
   "metadata": {},
   "source": [
    "## Шаг 1. Загрузка данных и подготовка их к анализу\n",
    "<a id=\"1\"></a>"
   ]
  },
  {
   "cell_type": "markdown",
   "id": "flying-mirror",
   "metadata": {},
   "source": [
    "### 1.1. Положите данные о визитах, заказах и рекламных расходах в переменные\n",
    "<a id=\"1.1\"></a>"
   ]
  },
  {
   "cell_type": "code",
   "execution_count": 2,
   "id": "sporting-vulnerability",
   "metadata": {},
   "outputs": [],
   "source": [
    "try:\n",
    "    visits_log = pd.read_csv('datasets/visits_log.csv')\n",
    "    orders_log = pd.read_csv('datasets/orders_log.csv')\n",
    "    costs = pd.read_csv('datasets/costs.csv')\n",
    "except:\n",
    "    visits_log = pd.read_csv('/datasets/visits_log.csv')\n",
    "    orders_log = pd.read_csv('/datasets/orders_log.csv')\n",
    "    costs = pd.read_csv('/datasets/costs.csv')    "
   ]
  },
  {
   "cell_type": "markdown",
   "id": "floppy-arnold",
   "metadata": {},
   "source": [
    "### 1.2. Подготовьте данные. Убедитесь, что тип данных во всех колонках соответствует сохранённым в них значениям.\n",
    "<a id=\"1.2\"></a>"
   ]
  },
  {
   "cell_type": "markdown",
   "id": "functioning-antarctica",
   "metadata": {},
   "source": [
    "#### visits_log\n",
    "<a id=\"1.2.1\"></a>"
   ]
  },
  {
   "cell_type": "code",
   "execution_count": 3,
   "id": "informed-playing",
   "metadata": {},
   "outputs": [
    {
     "data": {
      "text/html": [
       "<div>\n",
       "<style scoped>\n",
       "    .dataframe tbody tr th:only-of-type {\n",
       "        vertical-align: middle;\n",
       "    }\n",
       "\n",
       "    .dataframe tbody tr th {\n",
       "        vertical-align: top;\n",
       "    }\n",
       "\n",
       "    .dataframe thead th {\n",
       "        text-align: right;\n",
       "    }\n",
       "</style>\n",
       "<table border=\"1\" class=\"dataframe\">\n",
       "  <thead>\n",
       "    <tr style=\"text-align: right;\">\n",
       "      <th></th>\n",
       "      <th>Device</th>\n",
       "      <th>End Ts</th>\n",
       "      <th>Source Id</th>\n",
       "      <th>Start Ts</th>\n",
       "      <th>Uid</th>\n",
       "    </tr>\n",
       "  </thead>\n",
       "  <tbody>\n",
       "    <tr>\n",
       "      <th>0</th>\n",
       "      <td>touch</td>\n",
       "      <td>2017-12-20 17:38:00</td>\n",
       "      <td>4</td>\n",
       "      <td>2017-12-20 17:20:00</td>\n",
       "      <td>16879256277535980062</td>\n",
       "    </tr>\n",
       "    <tr>\n",
       "      <th>1</th>\n",
       "      <td>desktop</td>\n",
       "      <td>2018-02-19 17:21:00</td>\n",
       "      <td>2</td>\n",
       "      <td>2018-02-19 16:53:00</td>\n",
       "      <td>104060357244891740</td>\n",
       "    </tr>\n",
       "    <tr>\n",
       "      <th>2</th>\n",
       "      <td>touch</td>\n",
       "      <td>2017-07-01 01:54:00</td>\n",
       "      <td>5</td>\n",
       "      <td>2017-07-01 01:54:00</td>\n",
       "      <td>7459035603376831527</td>\n",
       "    </tr>\n",
       "    <tr>\n",
       "      <th>3</th>\n",
       "      <td>desktop</td>\n",
       "      <td>2018-05-20 11:23:00</td>\n",
       "      <td>9</td>\n",
       "      <td>2018-05-20 10:59:00</td>\n",
       "      <td>16174680259334210214</td>\n",
       "    </tr>\n",
       "    <tr>\n",
       "      <th>4</th>\n",
       "      <td>desktop</td>\n",
       "      <td>2017-12-27 14:06:00</td>\n",
       "      <td>3</td>\n",
       "      <td>2017-12-27 14:06:00</td>\n",
       "      <td>9969694820036681168</td>\n",
       "    </tr>\n",
       "  </tbody>\n",
       "</table>\n",
       "</div>"
      ],
      "text/plain": [
       "    Device               End Ts  Source Id             Start Ts  \\\n",
       "0    touch  2017-12-20 17:38:00          4  2017-12-20 17:20:00   \n",
       "1  desktop  2018-02-19 17:21:00          2  2018-02-19 16:53:00   \n",
       "2    touch  2017-07-01 01:54:00          5  2017-07-01 01:54:00   \n",
       "3  desktop  2018-05-20 11:23:00          9  2018-05-20 10:59:00   \n",
       "4  desktop  2017-12-27 14:06:00          3  2017-12-27 14:06:00   \n",
       "\n",
       "                    Uid  \n",
       "0  16879256277535980062  \n",
       "1    104060357244891740  \n",
       "2   7459035603376831527  \n",
       "3  16174680259334210214  \n",
       "4   9969694820036681168  "
      ]
     },
     "execution_count": 3,
     "metadata": {},
     "output_type": "execute_result"
    }
   ],
   "source": [
    "visits_log.head()"
   ]
  },
  {
   "cell_type": "code",
   "execution_count": 4,
   "id": "alternate-globe",
   "metadata": {
    "scrolled": false
   },
   "outputs": [
    {
     "name": "stdout",
     "output_type": "stream",
     "text": [
      "<class 'pandas.core.frame.DataFrame'>\n",
      "RangeIndex: 359400 entries, 0 to 359399\n",
      "Data columns (total 5 columns):\n",
      " #   Column     Non-Null Count   Dtype \n",
      "---  ------     --------------   ----- \n",
      " 0   Device     359400 non-null  object\n",
      " 1   End Ts     359400 non-null  object\n",
      " 2   Source Id  359400 non-null  int64 \n",
      " 3   Start Ts   359400 non-null  object\n",
      " 4   Uid        359400 non-null  uint64\n",
      "dtypes: int64(1), object(3), uint64(1)\n",
      "memory usage: 13.7+ MB\n"
     ]
    }
   ],
   "source": [
    "visits_log.info()"
   ]
  },
  {
   "cell_type": "markdown",
   "id": "unauthorized-lebanon",
   "metadata": {},
   "source": [
    "**Необходимо перевести атрибуты `End Ts` и `Start Ts`в тип данных \"дата и время\"**"
   ]
  },
  {
   "cell_type": "code",
   "execution_count": 5,
   "id": "representative-dutch",
   "metadata": {},
   "outputs": [],
   "source": [
    "visits_log['End Ts'] = pd.to_datetime(visits_log['End Ts'], format='%Y-%m-%d %H:%M:%S')\n",
    "visits_log['Start Ts'] = pd.to_datetime(visits_log['Start Ts'], format='%Y-%m-%d %H:%M:%S')"
   ]
  },
  {
   "cell_type": "code",
   "execution_count": 6,
   "id": "medical-compromise",
   "metadata": {
    "scrolled": true
   },
   "outputs": [
    {
     "name": "stdout",
     "output_type": "stream",
     "text": [
      "<class 'pandas.core.frame.DataFrame'>\n",
      "RangeIndex: 359400 entries, 0 to 359399\n",
      "Data columns (total 5 columns):\n",
      " #   Column     Non-Null Count   Dtype         \n",
      "---  ------     --------------   -----         \n",
      " 0   Device     359400 non-null  object        \n",
      " 1   End Ts     359400 non-null  datetime64[ns]\n",
      " 2   Source Id  359400 non-null  int64         \n",
      " 3   Start Ts   359400 non-null  datetime64[ns]\n",
      " 4   Uid        359400 non-null  uint64        \n",
      "dtypes: datetime64[ns](2), int64(1), object(1), uint64(1)\n",
      "memory usage: 13.7+ MB\n"
     ]
    }
   ],
   "source": [
    "visits_log.info()"
   ]
  },
  {
   "cell_type": "markdown",
   "id": "earned-organic",
   "metadata": {},
   "source": [
    "#### orders_log\n",
    "<a id=\"1.2.1\"></a>"
   ]
  },
  {
   "cell_type": "code",
   "execution_count": 7,
   "id": "systematic-constitutional",
   "metadata": {
    "scrolled": true
   },
   "outputs": [
    {
     "name": "stdout",
     "output_type": "stream",
     "text": [
      "<class 'pandas.core.frame.DataFrame'>\n",
      "RangeIndex: 50415 entries, 0 to 50414\n",
      "Data columns (total 3 columns):\n",
      " #   Column   Non-Null Count  Dtype  \n",
      "---  ------   --------------  -----  \n",
      " 0   Buy Ts   50415 non-null  object \n",
      " 1   Revenue  50415 non-null  float64\n",
      " 2   Uid      50415 non-null  uint64 \n",
      "dtypes: float64(1), object(1), uint64(1)\n",
      "memory usage: 1.2+ MB\n"
     ]
    }
   ],
   "source": [
    "orders_log.info()"
   ]
  },
  {
   "cell_type": "code",
   "execution_count": 8,
   "id": "lonely-literacy",
   "metadata": {
    "scrolled": false
   },
   "outputs": [
    {
     "data": {
      "text/html": [
       "<div>\n",
       "<style scoped>\n",
       "    .dataframe tbody tr th:only-of-type {\n",
       "        vertical-align: middle;\n",
       "    }\n",
       "\n",
       "    .dataframe tbody tr th {\n",
       "        vertical-align: top;\n",
       "    }\n",
       "\n",
       "    .dataframe thead th {\n",
       "        text-align: right;\n",
       "    }\n",
       "</style>\n",
       "<table border=\"1\" class=\"dataframe\">\n",
       "  <thead>\n",
       "    <tr style=\"text-align: right;\">\n",
       "      <th></th>\n",
       "      <th>Buy Ts</th>\n",
       "      <th>Revenue</th>\n",
       "      <th>Uid</th>\n",
       "    </tr>\n",
       "  </thead>\n",
       "  <tbody>\n",
       "    <tr>\n",
       "      <th>0</th>\n",
       "      <td>2017-06-01 00:10:00</td>\n",
       "      <td>17.00</td>\n",
       "      <td>10329302124590727494</td>\n",
       "    </tr>\n",
       "    <tr>\n",
       "      <th>1</th>\n",
       "      <td>2017-06-01 00:25:00</td>\n",
       "      <td>0.55</td>\n",
       "      <td>11627257723692907447</td>\n",
       "    </tr>\n",
       "    <tr>\n",
       "      <th>2</th>\n",
       "      <td>2017-06-01 00:27:00</td>\n",
       "      <td>0.37</td>\n",
       "      <td>17903680561304213844</td>\n",
       "    </tr>\n",
       "    <tr>\n",
       "      <th>3</th>\n",
       "      <td>2017-06-01 00:29:00</td>\n",
       "      <td>0.55</td>\n",
       "      <td>16109239769442553005</td>\n",
       "    </tr>\n",
       "    <tr>\n",
       "      <th>4</th>\n",
       "      <td>2017-06-01 07:58:00</td>\n",
       "      <td>0.37</td>\n",
       "      <td>14200605875248379450</td>\n",
       "    </tr>\n",
       "  </tbody>\n",
       "</table>\n",
       "</div>"
      ],
      "text/plain": [
       "                Buy Ts  Revenue                   Uid\n",
       "0  2017-06-01 00:10:00    17.00  10329302124590727494\n",
       "1  2017-06-01 00:25:00     0.55  11627257723692907447\n",
       "2  2017-06-01 00:27:00     0.37  17903680561304213844\n",
       "3  2017-06-01 00:29:00     0.55  16109239769442553005\n",
       "4  2017-06-01 07:58:00     0.37  14200605875248379450"
      ]
     },
     "execution_count": 8,
     "metadata": {},
     "output_type": "execute_result"
    }
   ],
   "source": [
    "orders_log.head()"
   ]
  },
  {
   "cell_type": "markdown",
   "id": "involved-stand",
   "metadata": {},
   "source": [
    "**Переведем значения столбца `Buy Ts` к типу `datetime`.**"
   ]
  },
  {
   "cell_type": "code",
   "execution_count": 9,
   "id": "requested-harassment",
   "metadata": {},
   "outputs": [],
   "source": [
    "orders_log['Buy Ts'] = pd.to_datetime(orders_log['Buy Ts'], format='%Y-%m-%d %H:%M:%S')"
   ]
  },
  {
   "cell_type": "code",
   "execution_count": 10,
   "id": "virgin-transfer",
   "metadata": {
    "scrolled": true
   },
   "outputs": [
    {
     "name": "stdout",
     "output_type": "stream",
     "text": [
      "<class 'pandas.core.frame.DataFrame'>\n",
      "RangeIndex: 50415 entries, 0 to 50414\n",
      "Data columns (total 3 columns):\n",
      " #   Column   Non-Null Count  Dtype         \n",
      "---  ------   --------------  -----         \n",
      " 0   Buy Ts   50415 non-null  datetime64[ns]\n",
      " 1   Revenue  50415 non-null  float64       \n",
      " 2   Uid      50415 non-null  uint64        \n",
      "dtypes: datetime64[ns](1), float64(1), uint64(1)\n",
      "memory usage: 1.2 MB\n"
     ]
    }
   ],
   "source": [
    "orders_log.info()"
   ]
  },
  {
   "cell_type": "markdown",
   "id": "closing-version",
   "metadata": {},
   "source": [
    "#### costs\n",
    "<a id=\"1.2.3\"></a>"
   ]
  },
  {
   "cell_type": "code",
   "execution_count": 11,
   "id": "resident-second",
   "metadata": {
    "scrolled": true
   },
   "outputs": [
    {
     "name": "stdout",
     "output_type": "stream",
     "text": [
      "<class 'pandas.core.frame.DataFrame'>\n",
      "RangeIndex: 2542 entries, 0 to 2541\n",
      "Data columns (total 3 columns):\n",
      " #   Column     Non-Null Count  Dtype  \n",
      "---  ------     --------------  -----  \n",
      " 0   source_id  2542 non-null   int64  \n",
      " 1   dt         2542 non-null   object \n",
      " 2   costs      2542 non-null   float64\n",
      "dtypes: float64(1), int64(1), object(1)\n",
      "memory usage: 59.7+ KB\n"
     ]
    }
   ],
   "source": [
    "costs.info()"
   ]
  },
  {
   "cell_type": "code",
   "execution_count": 12,
   "id": "dense-coating",
   "metadata": {
    "scrolled": true
   },
   "outputs": [
    {
     "data": {
      "text/html": [
       "<div>\n",
       "<style scoped>\n",
       "    .dataframe tbody tr th:only-of-type {\n",
       "        vertical-align: middle;\n",
       "    }\n",
       "\n",
       "    .dataframe tbody tr th {\n",
       "        vertical-align: top;\n",
       "    }\n",
       "\n",
       "    .dataframe thead th {\n",
       "        text-align: right;\n",
       "    }\n",
       "</style>\n",
       "<table border=\"1\" class=\"dataframe\">\n",
       "  <thead>\n",
       "    <tr style=\"text-align: right;\">\n",
       "      <th></th>\n",
       "      <th>source_id</th>\n",
       "      <th>dt</th>\n",
       "      <th>costs</th>\n",
       "    </tr>\n",
       "  </thead>\n",
       "  <tbody>\n",
       "    <tr>\n",
       "      <th>0</th>\n",
       "      <td>1</td>\n",
       "      <td>2017-06-01</td>\n",
       "      <td>75.20</td>\n",
       "    </tr>\n",
       "    <tr>\n",
       "      <th>1</th>\n",
       "      <td>1</td>\n",
       "      <td>2017-06-02</td>\n",
       "      <td>62.25</td>\n",
       "    </tr>\n",
       "    <tr>\n",
       "      <th>2</th>\n",
       "      <td>1</td>\n",
       "      <td>2017-06-03</td>\n",
       "      <td>36.53</td>\n",
       "    </tr>\n",
       "    <tr>\n",
       "      <th>3</th>\n",
       "      <td>1</td>\n",
       "      <td>2017-06-04</td>\n",
       "      <td>55.00</td>\n",
       "    </tr>\n",
       "    <tr>\n",
       "      <th>4</th>\n",
       "      <td>1</td>\n",
       "      <td>2017-06-05</td>\n",
       "      <td>57.08</td>\n",
       "    </tr>\n",
       "  </tbody>\n",
       "</table>\n",
       "</div>"
      ],
      "text/plain": [
       "   source_id          dt  costs\n",
       "0          1  2017-06-01  75.20\n",
       "1          1  2017-06-02  62.25\n",
       "2          1  2017-06-03  36.53\n",
       "3          1  2017-06-04  55.00\n",
       "4          1  2017-06-05  57.08"
      ]
     },
     "execution_count": 12,
     "metadata": {},
     "output_type": "execute_result"
    }
   ],
   "source": [
    "costs.head()"
   ]
  },
  {
   "cell_type": "markdown",
   "id": "theoretical-washer",
   "metadata": {},
   "source": [
    "**Переведем значения столбца `dt` к типу `datetime`.**"
   ]
  },
  {
   "cell_type": "code",
   "execution_count": 13,
   "id": "million-browse",
   "metadata": {},
   "outputs": [],
   "source": [
    "costs['dt'] = pd.to_datetime(costs['dt'], format='%Y-%m-%d')"
   ]
  },
  {
   "cell_type": "code",
   "execution_count": 14,
   "id": "authorized-biodiversity",
   "metadata": {
    "scrolled": true
   },
   "outputs": [
    {
     "name": "stdout",
     "output_type": "stream",
     "text": [
      "<class 'pandas.core.frame.DataFrame'>\n",
      "RangeIndex: 2542 entries, 0 to 2541\n",
      "Data columns (total 3 columns):\n",
      " #   Column     Non-Null Count  Dtype         \n",
      "---  ------     --------------  -----         \n",
      " 0   source_id  2542 non-null   int64         \n",
      " 1   dt         2542 non-null   datetime64[ns]\n",
      " 2   costs      2542 non-null   float64       \n",
      "dtypes: datetime64[ns](1), float64(1), int64(1)\n",
      "memory usage: 59.7 KB\n"
     ]
    }
   ],
   "source": [
    "costs.info()"
   ]
  },
  {
   "cell_type": "markdown",
   "id": "selected-driving",
   "metadata": {},
   "source": [
    "### Вывод подраздела\n",
    "<a id=\"1.3\"></a>"
   ]
  },
  {
   "cell_type": "markdown",
   "id": "invalid-shirt",
   "metadata": {},
   "source": [
    "Типы данных были приведены к корректному виду во всех трех наборах данных."
   ]
  },
  {
   "cell_type": "markdown",
   "id": "antique-principal",
   "metadata": {},
   "source": [
    "## Шаг 2. Рассчет метрик и построение графиков\n",
    "<a id=\"2\"></a>"
   ]
  },
  {
   "cell_type": "markdown",
   "id": "processed-strategy",
   "metadata": {},
   "source": [
    "### 2.1. Продуктовые метрики\n",
    "<a id=\"2.1\"></a>"
   ]
  },
  {
   "cell_type": "markdown",
   "id": "empirical-belief",
   "metadata": {},
   "source": [
    "#### 2.1.1. Рассчитайте DAU, WAU и MAU. Вычислите средние значения этих метрик за весь период. Отобразите изменения метрик во времени на графиках\n",
    "<a id=\"2.1.1\"></a>"
   ]
  },
  {
   "cell_type": "markdown",
   "id": "intellectual-monitoring",
   "metadata": {},
   "source": [
    "* **DAU** (от англ. daily active users) — количество уникальных пользователей в день;\n",
    "* **WAU** (от англ. weekly active users) — количество уникальных пользователей в неделю;\n",
    "* **MAU** (от англ. monthly active users) — количество уникальных пользователей в месяц."
   ]
  },
  {
   "cell_type": "markdown",
   "id": "annual-society",
   "metadata": {},
   "source": [
    "Для расчета вышеуказанных показателей нам нужна таблица с информацией о пользовательской активности `visits_log`"
   ]
  },
  {
   "cell_type": "code",
   "execution_count": 15,
   "id": "pacific-share",
   "metadata": {
    "scrolled": true
   },
   "outputs": [
    {
     "data": {
      "text/html": [
       "<div>\n",
       "<style scoped>\n",
       "    .dataframe tbody tr th:only-of-type {\n",
       "        vertical-align: middle;\n",
       "    }\n",
       "\n",
       "    .dataframe tbody tr th {\n",
       "        vertical-align: top;\n",
       "    }\n",
       "\n",
       "    .dataframe thead th {\n",
       "        text-align: right;\n",
       "    }\n",
       "</style>\n",
       "<table border=\"1\" class=\"dataframe\">\n",
       "  <thead>\n",
       "    <tr style=\"text-align: right;\">\n",
       "      <th></th>\n",
       "      <th>Device</th>\n",
       "      <th>End Ts</th>\n",
       "      <th>Source Id</th>\n",
       "      <th>Start Ts</th>\n",
       "      <th>Uid</th>\n",
       "    </tr>\n",
       "  </thead>\n",
       "  <tbody>\n",
       "    <tr>\n",
       "      <th>0</th>\n",
       "      <td>touch</td>\n",
       "      <td>2017-12-20 17:38:00</td>\n",
       "      <td>4</td>\n",
       "      <td>2017-12-20 17:20:00</td>\n",
       "      <td>16879256277535980062</td>\n",
       "    </tr>\n",
       "    <tr>\n",
       "      <th>1</th>\n",
       "      <td>desktop</td>\n",
       "      <td>2018-02-19 17:21:00</td>\n",
       "      <td>2</td>\n",
       "      <td>2018-02-19 16:53:00</td>\n",
       "      <td>104060357244891740</td>\n",
       "    </tr>\n",
       "    <tr>\n",
       "      <th>2</th>\n",
       "      <td>touch</td>\n",
       "      <td>2017-07-01 01:54:00</td>\n",
       "      <td>5</td>\n",
       "      <td>2017-07-01 01:54:00</td>\n",
       "      <td>7459035603376831527</td>\n",
       "    </tr>\n",
       "    <tr>\n",
       "      <th>3</th>\n",
       "      <td>desktop</td>\n",
       "      <td>2018-05-20 11:23:00</td>\n",
       "      <td>9</td>\n",
       "      <td>2018-05-20 10:59:00</td>\n",
       "      <td>16174680259334210214</td>\n",
       "    </tr>\n",
       "    <tr>\n",
       "      <th>4</th>\n",
       "      <td>desktop</td>\n",
       "      <td>2017-12-27 14:06:00</td>\n",
       "      <td>3</td>\n",
       "      <td>2017-12-27 14:06:00</td>\n",
       "      <td>9969694820036681168</td>\n",
       "    </tr>\n",
       "    <tr>\n",
       "      <th>...</th>\n",
       "      <td>...</td>\n",
       "      <td>...</td>\n",
       "      <td>...</td>\n",
       "      <td>...</td>\n",
       "      <td>...</td>\n",
       "    </tr>\n",
       "    <tr>\n",
       "      <th>359395</th>\n",
       "      <td>desktop</td>\n",
       "      <td>2017-07-29 19:07:19</td>\n",
       "      <td>2</td>\n",
       "      <td>2017-07-29 19:07:00</td>\n",
       "      <td>18363291481961487539</td>\n",
       "    </tr>\n",
       "    <tr>\n",
       "      <th>359396</th>\n",
       "      <td>touch</td>\n",
       "      <td>2018-01-25 17:38:19</td>\n",
       "      <td>1</td>\n",
       "      <td>2018-01-25 17:38:00</td>\n",
       "      <td>18370831553019119586</td>\n",
       "    </tr>\n",
       "    <tr>\n",
       "      <th>359397</th>\n",
       "      <td>desktop</td>\n",
       "      <td>2018-03-03 10:12:19</td>\n",
       "      <td>4</td>\n",
       "      <td>2018-03-03 10:12:00</td>\n",
       "      <td>18387297585500748294</td>\n",
       "    </tr>\n",
       "    <tr>\n",
       "      <th>359398</th>\n",
       "      <td>desktop</td>\n",
       "      <td>2017-11-02 10:12:19</td>\n",
       "      <td>5</td>\n",
       "      <td>2017-11-02 10:12:00</td>\n",
       "      <td>18388616944624776485</td>\n",
       "    </tr>\n",
       "    <tr>\n",
       "      <th>359399</th>\n",
       "      <td>touch</td>\n",
       "      <td>2017-09-10 13:13:19</td>\n",
       "      <td>2</td>\n",
       "      <td>2017-09-10 13:13:00</td>\n",
       "      <td>18396128934054549559</td>\n",
       "    </tr>\n",
       "  </tbody>\n",
       "</table>\n",
       "<p>359400 rows × 5 columns</p>\n",
       "</div>"
      ],
      "text/plain": [
       "         Device              End Ts  Source Id            Start Ts  \\\n",
       "0         touch 2017-12-20 17:38:00          4 2017-12-20 17:20:00   \n",
       "1       desktop 2018-02-19 17:21:00          2 2018-02-19 16:53:00   \n",
       "2         touch 2017-07-01 01:54:00          5 2017-07-01 01:54:00   \n",
       "3       desktop 2018-05-20 11:23:00          9 2018-05-20 10:59:00   \n",
       "4       desktop 2017-12-27 14:06:00          3 2017-12-27 14:06:00   \n",
       "...         ...                 ...        ...                 ...   \n",
       "359395  desktop 2017-07-29 19:07:19          2 2017-07-29 19:07:00   \n",
       "359396    touch 2018-01-25 17:38:19          1 2018-01-25 17:38:00   \n",
       "359397  desktop 2018-03-03 10:12:19          4 2018-03-03 10:12:00   \n",
       "359398  desktop 2017-11-02 10:12:19          5 2017-11-02 10:12:00   \n",
       "359399    touch 2017-09-10 13:13:19          2 2017-09-10 13:13:00   \n",
       "\n",
       "                         Uid  \n",
       "0       16879256277535980062  \n",
       "1         104060357244891740  \n",
       "2        7459035603376831527  \n",
       "3       16174680259334210214  \n",
       "4        9969694820036681168  \n",
       "...                      ...  \n",
       "359395  18363291481961487539  \n",
       "359396  18370831553019119586  \n",
       "359397  18387297585500748294  \n",
       "359398  18388616944624776485  \n",
       "359399  18396128934054549559  \n",
       "\n",
       "[359400 rows x 5 columns]"
      ]
     },
     "execution_count": 15,
     "metadata": {},
     "output_type": "execute_result"
    }
   ],
   "source": [
    "visits_log"
   ]
  },
  {
   "cell_type": "markdown",
   "id": "awful-tender",
   "metadata": {},
   "source": [
    "Чтобы посчитать недельное и месячное использование, выделим в отдельные столбцы год, месяц и неделю, а также полную дату."
   ]
  },
  {
   "cell_type": "code",
   "execution_count": 25,
   "id": "novel-departure",
   "metadata": {
    "scrolled": true
   },
   "outputs": [
    {
     "name": "stderr",
     "output_type": "stream",
     "text": [
      "/anaconda3/lib/python3.7/site-packages/ipykernel_launcher.py:3: FutureWarning: Series.dt.weekofyear and Series.dt.week have been deprecated.  Please use Series.dt.isocalendar().week instead.\n",
      "  This is separate from the ipykernel package so we can avoid doing imports until\n"
     ]
    },
    {
     "data": {
      "text/html": [
       "<div>\n",
       "<style scoped>\n",
       "    .dataframe tbody tr th:only-of-type {\n",
       "        vertical-align: middle;\n",
       "    }\n",
       "\n",
       "    .dataframe tbody tr th {\n",
       "        vertical-align: top;\n",
       "    }\n",
       "\n",
       "    .dataframe thead th {\n",
       "        text-align: right;\n",
       "    }\n",
       "</style>\n",
       "<table border=\"1\" class=\"dataframe\">\n",
       "  <thead>\n",
       "    <tr style=\"text-align: right;\">\n",
       "      <th></th>\n",
       "      <th>Device</th>\n",
       "      <th>End Ts</th>\n",
       "      <th>Source Id</th>\n",
       "      <th>Start Ts</th>\n",
       "      <th>Uid</th>\n",
       "      <th>session_year</th>\n",
       "      <th>session_month</th>\n",
       "      <th>session_week</th>\n",
       "      <th>session_date</th>\n",
       "    </tr>\n",
       "  </thead>\n",
       "  <tbody>\n",
       "    <tr>\n",
       "      <th>0</th>\n",
       "      <td>touch</td>\n",
       "      <td>2017-12-20 17:38:00</td>\n",
       "      <td>4</td>\n",
       "      <td>2017-12-20 17:20:00</td>\n",
       "      <td>16879256277535980062</td>\n",
       "      <td>2017</td>\n",
       "      <td>12</td>\n",
       "      <td>51</td>\n",
       "      <td>2017-12-20</td>\n",
       "    </tr>\n",
       "    <tr>\n",
       "      <th>1</th>\n",
       "      <td>desktop</td>\n",
       "      <td>2018-02-19 17:21:00</td>\n",
       "      <td>2</td>\n",
       "      <td>2018-02-19 16:53:00</td>\n",
       "      <td>104060357244891740</td>\n",
       "      <td>2018</td>\n",
       "      <td>2</td>\n",
       "      <td>8</td>\n",
       "      <td>2018-02-19</td>\n",
       "    </tr>\n",
       "    <tr>\n",
       "      <th>2</th>\n",
       "      <td>touch</td>\n",
       "      <td>2017-07-01 01:54:00</td>\n",
       "      <td>5</td>\n",
       "      <td>2017-07-01 01:54:00</td>\n",
       "      <td>7459035603376831527</td>\n",
       "      <td>2017</td>\n",
       "      <td>7</td>\n",
       "      <td>26</td>\n",
       "      <td>2017-07-01</td>\n",
       "    </tr>\n",
       "    <tr>\n",
       "      <th>3</th>\n",
       "      <td>desktop</td>\n",
       "      <td>2018-05-20 11:23:00</td>\n",
       "      <td>9</td>\n",
       "      <td>2018-05-20 10:59:00</td>\n",
       "      <td>16174680259334210214</td>\n",
       "      <td>2018</td>\n",
       "      <td>5</td>\n",
       "      <td>20</td>\n",
       "      <td>2018-05-20</td>\n",
       "    </tr>\n",
       "    <tr>\n",
       "      <th>4</th>\n",
       "      <td>desktop</td>\n",
       "      <td>2017-12-27 14:06:00</td>\n",
       "      <td>3</td>\n",
       "      <td>2017-12-27 14:06:00</td>\n",
       "      <td>9969694820036681168</td>\n",
       "      <td>2017</td>\n",
       "      <td>12</td>\n",
       "      <td>52</td>\n",
       "      <td>2017-12-27</td>\n",
       "    </tr>\n",
       "  </tbody>\n",
       "</table>\n",
       "</div>"
      ],
      "text/plain": [
       "    Device              End Ts  Source Id            Start Ts  \\\n",
       "0    touch 2017-12-20 17:38:00          4 2017-12-20 17:20:00   \n",
       "1  desktop 2018-02-19 17:21:00          2 2018-02-19 16:53:00   \n",
       "2    touch 2017-07-01 01:54:00          5 2017-07-01 01:54:00   \n",
       "3  desktop 2018-05-20 11:23:00          9 2018-05-20 10:59:00   \n",
       "4  desktop 2017-12-27 14:06:00          3 2017-12-27 14:06:00   \n",
       "\n",
       "                    Uid  session_year  session_month  session_week  \\\n",
       "0  16879256277535980062          2017             12            51   \n",
       "1    104060357244891740          2018              2             8   \n",
       "2   7459035603376831527          2017              7            26   \n",
       "3  16174680259334210214          2018              5            20   \n",
       "4   9969694820036681168          2017             12            52   \n",
       "\n",
       "  session_date  \n",
       "0   2017-12-20  \n",
       "1   2018-02-19  \n",
       "2   2017-07-01  \n",
       "3   2018-05-20  \n",
       "4   2017-12-27  "
      ]
     },
     "metadata": {},
     "output_type": "display_data"
    }
   ],
   "source": [
    "visits_log['session_year']  = visits_log['Start Ts'].dt.year\n",
    "visits_log['session_month'] = visits_log['Start Ts'].dt.month\n",
    "visits_log['session_week']  = visits_log['Start Ts'].dt.week\n",
    "visits_log['session_date'] = visits_log['Start Ts'].dt.date\n",
    "display(visits_log.head()) "
   ]
  },
  {
   "cell_type": "markdown",
   "id": "applicable-violence",
   "metadata": {},
   "source": [
    "Посчитаем метрики. Сгруппируем данные по уникальным пользователям и найдём среднее:"
   ]
  },
  {
   "cell_type": "code",
   "execution_count": 28,
   "id": "honey-measure",
   "metadata": {
    "scrolled": true
   },
   "outputs": [
    {
     "data": {
      "image/png": "[encoded data removed]",
      "text/plain": [
       "<Figure size 1440x720 with 1 Axes>"
      ]
     },
     "metadata": {
      "needs_background": "light"
     },
     "output_type": "display_data"
    }
   ],
   "source": [
    "wau = visits_log.groupby(['session_year', 'session_week']).agg({'Uid': 'nunique'})\n",
    "\n",
    "ax = wau.plot(kind='line',\\\n",
    "              title='Изменение WAU во времени',\n",
    "             figsize = [20, 10],\n",
    "             xlabel = 'Неделя',\n",
    "             ylabel = 'Количество уникальных пользователей')"
   ]
  },
  {
   "cell_type": "markdown",
   "id": "separated-shakespeare",
   "metadata": {},
   "source": [
    "Видим рост посещений в середине периода, с понижением к концу периода."
   ]
  },
  {
   "cell_type": "code",
   "execution_count": 39,
   "id": "different-flash",
   "metadata": {},
   "outputs": [
    {
     "data": {
      "image/png": "[encoded data removed]",
      "text/plain": [
       "<Figure size 1440x720 with 1 Axes>"
      ]
     },
     "metadata": {
      "needs_background": "light"
     },
     "output_type": "display_data"
    }
   ],
   "source": [
    "mau = visits_log.groupby(['session_year', 'session_month']).agg({'Uid': 'nunique'})\n",
    "month = pd.Series(['июнь', 'июль', 'август', 'сентябрь', 'октябрь', 'ноябрь', 'декабрь', 'январь', 'февраль', 'март', 'апрель', 'май'])\n",
    "#mau['month'] = month\n",
    "#print(mau)\n",
    "\n",
    "ax = mau.plot(kind='line',\\\n",
    "              title='Изменение MAU во времени',\n",
    "             figsize = [20, 10],\n",
    "             xlabel = 'Месяц',\n",
    "             ylabel = 'Количество уникальных пользователей',)\n",
    "             #x = 'month')"
   ]
  },
  {
   "cell_type": "markdown",
   "id": "worth-fundamentals",
   "metadata": {},
   "source": [
    "В разрезе месяца количество уникальных пользователей выше всего показатель с августа по апрель."
   ]
  },
  {
   "cell_type": "markdown",
   "id": "instrumental-terror",
   "metadata": {},
   "source": [
    "#### 2.1.2. Определите, сколько раз за день пользователи в среднем заходят на сайт. Постройте график, отражающий изменения метрики во времени\n",
    "<a id=\"2.1.2\"></a>"
   ]
  },
  {
   "cell_type": "code",
   "execution_count": 17,
   "id": "sharp-reach",
   "metadata": {
    "scrolled": true
   },
   "outputs": [
    {
     "name": "stdout",
     "output_type": "stream",
     "text": [
      "907\n",
      "5716\n",
      "23228\n"
     ]
    }
   ],
   "source": [
    "dau_total = visits_log.groupby('session_date').agg({'Uid': 'nunique'}).mean()\n",
    "wau_total = (\n",
    "    visits_log.groupby(['session_year', 'session_week'])\n",
    "    .agg({'Uid': 'nunique'})\n",
    "    .mean()\n",
    ")\n",
    "mau_total = (\n",
    "    visits_log.groupby(['session_year', 'session_month'])\n",
    "    .agg({'Uid': 'nunique'})\n",
    "    .mean()\n",
    ")\n",
    "\n",
    "print(int(dau_total))\n",
    "print(int(wau_total))\n",
    "print(int(mau_total))"
   ]
  },
  {
   "cell_type": "markdown",
   "id": "plain-mongolia",
   "metadata": {},
   "source": [
    "Построим графики изменения метрик во времени."
   ]
  },
  {
   "cell_type": "code",
   "execution_count": 18,
   "id": "russian-convergence",
   "metadata": {
    "scrolled": false
   },
   "outputs": [
    {
     "data": {
      "image/png": "[encoded data removed]",
      "text/plain": [
       "<Figure size 1440x720 with 1 Axes>"
      ]
     },
     "metadata": {
      "needs_background": "light"
     },
     "output_type": "display_data"
    }
   ],
   "source": [
    "dau = visits_log.groupby('session_date').agg({'Uid': 'nunique'})\n",
    "\n",
    "ax = dau.plot(kind='line',\\\n",
    "              title='Изменение DAU во времени',\n",
    "             figsize = [20, 10],\n",
    "             xlabel = 'Дата',\n",
    "             ylabel = 'Количество уникальных пользователей')"
   ]
  },
  {
   "cell_type": "markdown",
   "id": "adapted-creature",
   "metadata": {},
   "source": [
    "Наблюдаем пик в декабре 2017 года. Предположим, что увеличение количества пользователей связано с тем, что количество пользователей к празднику Нового года увеличивается."
   ]
  },
  {
   "cell_type": "markdown",
   "id": "southwest-reference",
   "metadata": {},
   "source": [
    "#### 2.1.3. Исследуйте, сколько времени пользователи проводят на сайте. Узнайте продолжительность типичной пользовательской сессии за весь период. Чтобы выбрать подходящую среднюю меру, постройте график распределения. Изменение продолжительности сессий во времени изучать необязательно\n",
    "<a id=\"2.1.3\"></a>"
   ]
  },
  {
   "cell_type": "markdown",
   "id": "referenced-separation",
   "metadata": {},
   "source": [
    "Для того, чтобы найти метрику разделим число сессий на количество пользователей за период:"
   ]
  },
  {
   "cell_type": "code",
   "execution_count": 27,
   "id": "hawaiian-perry",
   "metadata": {},
   "outputs": [
    {
     "data": {
      "text/html": [
       "<div>\n",
       "<style scoped>\n",
       "    .dataframe tbody tr th:only-of-type {\n",
       "        vertical-align: middle;\n",
       "    }\n",
       "\n",
       "    .dataframe tbody tr th {\n",
       "        vertical-align: top;\n",
       "    }\n",
       "\n",
       "    .dataframe thead th {\n",
       "        text-align: right;\n",
       "    }\n",
       "</style>\n",
       "<table border=\"1\" class=\"dataframe\">\n",
       "  <thead>\n",
       "    <tr style=\"text-align: right;\">\n",
       "      <th></th>\n",
       "      <th>Device</th>\n",
       "      <th>End Ts</th>\n",
       "      <th>Source Id</th>\n",
       "      <th>Start Ts</th>\n",
       "      <th>Uid</th>\n",
       "      <th>session_year</th>\n",
       "      <th>session_month</th>\n",
       "      <th>session_week</th>\n",
       "      <th>session_date</th>\n",
       "    </tr>\n",
       "  </thead>\n",
       "  <tbody>\n",
       "    <tr>\n",
       "      <th>0</th>\n",
       "      <td>touch</td>\n",
       "      <td>2017-12-20 17:38:00</td>\n",
       "      <td>4</td>\n",
       "      <td>2017-12-20 17:20:00</td>\n",
       "      <td>16879256277535980062</td>\n",
       "      <td>2017</td>\n",
       "      <td>12</td>\n",
       "      <td>51</td>\n",
       "      <td>2017-12-20</td>\n",
       "    </tr>\n",
       "    <tr>\n",
       "      <th>1</th>\n",
       "      <td>desktop</td>\n",
       "      <td>2018-02-19 17:21:00</td>\n",
       "      <td>2</td>\n",
       "      <td>2018-02-19 16:53:00</td>\n",
       "      <td>104060357244891740</td>\n",
       "      <td>2018</td>\n",
       "      <td>2</td>\n",
       "      <td>8</td>\n",
       "      <td>2018-02-19</td>\n",
       "    </tr>\n",
       "    <tr>\n",
       "      <th>2</th>\n",
       "      <td>touch</td>\n",
       "      <td>2017-07-01 01:54:00</td>\n",
       "      <td>5</td>\n",
       "      <td>2017-07-01 01:54:00</td>\n",
       "      <td>7459035603376831527</td>\n",
       "      <td>2017</td>\n",
       "      <td>7</td>\n",
       "      <td>26</td>\n",
       "      <td>2017-07-01</td>\n",
       "    </tr>\n",
       "    <tr>\n",
       "      <th>3</th>\n",
       "      <td>desktop</td>\n",
       "      <td>2018-05-20 11:23:00</td>\n",
       "      <td>9</td>\n",
       "      <td>2018-05-20 10:59:00</td>\n",
       "      <td>16174680259334210214</td>\n",
       "      <td>2018</td>\n",
       "      <td>5</td>\n",
       "      <td>20</td>\n",
       "      <td>2018-05-20</td>\n",
       "    </tr>\n",
       "    <tr>\n",
       "      <th>4</th>\n",
       "      <td>desktop</td>\n",
       "      <td>2017-12-27 14:06:00</td>\n",
       "      <td>3</td>\n",
       "      <td>2017-12-27 14:06:00</td>\n",
       "      <td>9969694820036681168</td>\n",
       "      <td>2017</td>\n",
       "      <td>12</td>\n",
       "      <td>52</td>\n",
       "      <td>2017-12-27</td>\n",
       "    </tr>\n",
       "  </tbody>\n",
       "</table>\n",
       "</div>"
      ],
      "text/plain": [
       "    Device              End Ts  Source Id            Start Ts  \\\n",
       "0    touch 2017-12-20 17:38:00          4 2017-12-20 17:20:00   \n",
       "1  desktop 2018-02-19 17:21:00          2 2018-02-19 16:53:00   \n",
       "2    touch 2017-07-01 01:54:00          5 2017-07-01 01:54:00   \n",
       "3  desktop 2018-05-20 11:23:00          9 2018-05-20 10:59:00   \n",
       "4  desktop 2017-12-27 14:06:00          3 2017-12-27 14:06:00   \n",
       "\n",
       "                    Uid  session_year  session_month  session_week  \\\n",
       "0  16879256277535980062          2017             12            51   \n",
       "1    104060357244891740          2018              2             8   \n",
       "2   7459035603376831527          2017              7            26   \n",
       "3  16174680259334210214          2018              5            20   \n",
       "4   9969694820036681168          2017             12            52   \n",
       "\n",
       "  session_date  \n",
       "0   2017-12-20  \n",
       "1   2018-02-19  \n",
       "2   2017-07-01  \n",
       "3   2018-05-20  \n",
       "4   2017-12-27  "
      ]
     },
     "execution_count": 27,
     "metadata": {},
     "output_type": "execute_result"
    }
   ],
   "source": [
    "visits_log.head()"
   ]
  },
  {
   "cell_type": "code",
   "execution_count": 40,
   "id": "infrared-yield",
   "metadata": {
    "scrolled": true
   },
   "outputs": [
    {
     "name": "stdout",
     "output_type": "stream",
     "text": [
      "                            n_sessions  n_users  sess_per_user\n",
      "session_year session_month                                    \n",
      "2017         6                   16505    13259       1.244815\n",
      "             7                   17828    14183       1.256998\n",
      "             8                   14355    11631       1.234202\n",
      "             9                   23907    18975       1.259921\n",
      "             10                  37903    29692       1.276539\n",
      "             11                  43969    32797       1.340641\n",
      "             12                  41983    31557       1.330386\n",
      "2018         1                   36939    28716       1.286356\n",
      "             2                   37182    28749       1.293332\n",
      "             3                   35679    27473       1.298693\n",
      "             4                   26515    21008       1.262138\n",
      "             5                   26635    20701       1.286653\n"
     ]
    }
   ],
   "source": [
    "sessions_per_user = visits_log.groupby(['session_year', 'session_month']).agg({'Uid': ['count','nunique']})\n",
    "sessions_per_user.columns = ['n_sessions', 'n_users']\n",
    "sessions_per_user['sess_per_user'] = sessions_per_user['n_sessions'] / sessions_per_user['n_users']\n",
    "print(sessions_per_user) "
   ]
  },
  {
   "cell_type": "code",
   "execution_count": 41,
   "id": "mineral-symbol",
   "metadata": {
    "scrolled": true
   },
   "outputs": [
    {
     "name": "stdout",
     "output_type": "stream",
     "text": [
      "643.506488592098\n"
     ]
    }
   ],
   "source": [
    "visits_log['session_duration_sec'] = (visits_log['End Ts'] - visits_log['Start Ts']).dt.seconds\n",
    "print(visits_log['session_duration_sec'].mean()) "
   ]
  },
  {
   "cell_type": "markdown",
   "id": "found-integer",
   "metadata": {},
   "source": [
    "Средняя продолжительность сессии или ASL (англ. average session length) показывает, что типичная сессия пользователя в среднем длится 643 секунды - почти 10 минут."
   ]
  },
  {
   "cell_type": "markdown",
   "id": "exterior-family",
   "metadata": {},
   "source": [
    "#### 2.1.4. Рассчитайте Retention Rate, применяя когортный анализ. Покажите изменения метрики во времени на графике. Найдите средний Retention Rate на второй месяц «жизни» когорт.\n",
    "<a id=\"2.1.4\"></a>"
   ]
  },
  {
   "cell_type": "markdown",
   "id": "industrial-failure",
   "metadata": {},
   "source": [
    "### 2.2. Метрики электронной коммерции\n",
    "<a id=\"2.2\"></a>"
   ]
  },
  {
   "cell_type": "markdown",
   "id": "arabic-entertainment",
   "metadata": {},
   "source": [
    "#### 2.2.1. Исследуйте, сколько времени в среднем проходит с момента первого посещения сайта до совершения покупки. Изучать изменение этой метрики во времени необязательно\n",
    "<a id=\"2.2.1\"></a>"
   ]
  },
  {
   "cell_type": "markdown",
   "id": "gross-plymouth",
   "metadata": {},
   "source": [
    "#### 2.2.2. Применяя когортный анализ или другой метод, рассчитайте среднее количество покупок на одного покупателя за определённый период, например за 6 месяцев. Изучать изменение этой метрики во времени необязательно\n",
    "<a id=\"2.2.2\"></a>"
   ]
  },
  {
   "cell_type": "markdown",
   "id": "close-hampshire",
   "metadata": {},
   "source": [
    "#### 2.2.3. Рассчитайте средний чек, применяя группировку по времени совершения покупки. Когортный анализ не подходит — он может исказить расчёты. Постройте график, отражающий изменения метрики во времени\n",
    "<a id=\"2.2.3\"></a>"
   ]
  },
  {
   "cell_type": "markdown",
   "id": "stupid-chancellor",
   "metadata": {},
   "source": [
    "#### 2.2.4. Выясните, как меняется LTV на покупателя по когортам. Помните, что LTV — накопительная метрика. Рассчитайте средний LTV по когортам за 6 месяцев; в расчёт включайте когорты, «прожившие» не менее 6 месяцев. Маржинальность сервиса — 100%. Отразите изменения метрики во времени на графике\n",
    "<a id=\"2.2.4\"></a>"
   ]
  },
  {
   "cell_type": "markdown",
   "id": "wrong-platform",
   "metadata": {},
   "source": [
    "### 2.3. Маркетинговые метрики\n",
    "<a id=\"2.3\"></a>\n",
    "\n",
    "*Посчитайте и отобразите на графиках, как маркетинговые метрики различаются по рекламным источникам.\n",
    "Один и тот же пользователь мог заходить на сайт из нескольких источников, поэтому важно определить «главный» источник для каждого и учитывать это в расчётах. Например, главным может стать первый источник перехода.*\n",
    "\n",
    "*Обратите внимание, что клиенты, пришедшие из разных источников, могут иметь разный LTV. Постройте графики, отражающие изменения метрик во времени.*\n"
   ]
  },
  {
   "cell_type": "markdown",
   "id": "homeless-status",
   "metadata": {},
   "source": [
    "#### 2.3.1. Посчитайте общую сумму расходов на маркетинг. Выясните, как траты распределены по источникам. Визуализируйте изменения метрик во времени\n",
    "<a id=\"2.3.1\"></a>"
   ]
  },
  {
   "cell_type": "code",
   "execution_count": 20,
   "id": "inside-briefs",
   "metadata": {
    "scrolled": true
   },
   "outputs": [
    {
     "data": {
      "text/html": [
       "<div>\n",
       "<style scoped>\n",
       "    .dataframe tbody tr th:only-of-type {\n",
       "        vertical-align: middle;\n",
       "    }\n",
       "\n",
       "    .dataframe tbody tr th {\n",
       "        vertical-align: top;\n",
       "    }\n",
       "\n",
       "    .dataframe thead th {\n",
       "        text-align: right;\n",
       "    }\n",
       "</style>\n",
       "<table border=\"1\" class=\"dataframe\">\n",
       "  <thead>\n",
       "    <tr style=\"text-align: right;\">\n",
       "      <th></th>\n",
       "      <th>source_id</th>\n",
       "      <th>dt</th>\n",
       "      <th>costs</th>\n",
       "    </tr>\n",
       "  </thead>\n",
       "  <tbody>\n",
       "    <tr>\n",
       "      <th>0</th>\n",
       "      <td>1</td>\n",
       "      <td>2017-06-01</td>\n",
       "      <td>75.20</td>\n",
       "    </tr>\n",
       "    <tr>\n",
       "      <th>1</th>\n",
       "      <td>1</td>\n",
       "      <td>2017-06-02</td>\n",
       "      <td>62.25</td>\n",
       "    </tr>\n",
       "    <tr>\n",
       "      <th>2</th>\n",
       "      <td>1</td>\n",
       "      <td>2017-06-03</td>\n",
       "      <td>36.53</td>\n",
       "    </tr>\n",
       "    <tr>\n",
       "      <th>3</th>\n",
       "      <td>1</td>\n",
       "      <td>2017-06-04</td>\n",
       "      <td>55.00</td>\n",
       "    </tr>\n",
       "    <tr>\n",
       "      <th>4</th>\n",
       "      <td>1</td>\n",
       "      <td>2017-06-05</td>\n",
       "      <td>57.08</td>\n",
       "    </tr>\n",
       "  </tbody>\n",
       "</table>\n",
       "</div>"
      ],
      "text/plain": [
       "   source_id         dt  costs\n",
       "0          1 2017-06-01  75.20\n",
       "1          1 2017-06-02  62.25\n",
       "2          1 2017-06-03  36.53\n",
       "3          1 2017-06-04  55.00\n",
       "4          1 2017-06-05  57.08"
      ]
     },
     "execution_count": 20,
     "metadata": {},
     "output_type": "execute_result"
    }
   ],
   "source": [
    "costs.head()"
   ]
  },
  {
   "cell_type": "code",
   "execution_count": 21,
   "id": "laughing-mission",
   "metadata": {},
   "outputs": [
    {
     "name": "stdout",
     "output_type": "stream",
     "text": [
      "Общая сумма расходов на маркетинг 329131.62\n"
     ]
    }
   ],
   "source": [
    "all_costs = costs['costs'].sum()\n",
    "print('Общая сумма расходов на маркетинг {}'.format(all_costs))"
   ]
  },
  {
   "cell_type": "code",
   "execution_count": 22,
   "id": "processed-enhancement",
   "metadata": {},
   "outputs": [
    {
     "ename": "AttributeError",
     "evalue": "'DataFrame' object has no attribute 'p'",
     "output_type": "error",
     "traceback": [
      "\u001b[0;31m---------------------------------------------------------------------------\u001b[0m",
      "\u001b[0;31mAttributeError\u001b[0m                            Traceback (most recent call last)",
      "\u001b[0;32m<ipython-input-22-79df19107c88>\u001b[0m in \u001b[0;36m<module>\u001b[0;34m\u001b[0m\n\u001b[0;32m----> 1\u001b[0;31m \u001b[0mgroup_by_source\u001b[0m \u001b[0;34m=\u001b[0m \u001b[0mcosts\u001b[0m\u001b[0;34m.\u001b[0m\u001b[0mp\u001b[0m\u001b[0;34m\u001b[0m\u001b[0;34m\u001b[0m\u001b[0m\n\u001b[0m",
      "\u001b[0;32m/anaconda3/lib/python3.7/site-packages/pandas/core/generic.py\u001b[0m in \u001b[0;36m__getattr__\u001b[0;34m(self, name)\u001b[0m\n\u001b[1;32m   5463\u001b[0m             \u001b[0;32mif\u001b[0m \u001b[0mself\u001b[0m\u001b[0;34m.\u001b[0m\u001b[0m_info_axis\u001b[0m\u001b[0;34m.\u001b[0m\u001b[0m_can_hold_identifiers_and_holds_name\u001b[0m\u001b[0;34m(\u001b[0m\u001b[0mname\u001b[0m\u001b[0;34m)\u001b[0m\u001b[0;34m:\u001b[0m\u001b[0;34m\u001b[0m\u001b[0;34m\u001b[0m\u001b[0m\n\u001b[1;32m   5464\u001b[0m                 \u001b[0;32mreturn\u001b[0m \u001b[0mself\u001b[0m\u001b[0;34m[\u001b[0m\u001b[0mname\u001b[0m\u001b[0;34m]\u001b[0m\u001b[0;34m\u001b[0m\u001b[0;34m\u001b[0m\u001b[0m\n\u001b[0;32m-> 5465\u001b[0;31m             \u001b[0;32mreturn\u001b[0m \u001b[0mobject\u001b[0m\u001b[0;34m.\u001b[0m\u001b[0m__getattribute__\u001b[0m\u001b[0;34m(\u001b[0m\u001b[0mself\u001b[0m\u001b[0;34m,\u001b[0m \u001b[0mname\u001b[0m\u001b[0;34m)\u001b[0m\u001b[0;34m\u001b[0m\u001b[0;34m\u001b[0m\u001b[0m\n\u001b[0m\u001b[1;32m   5466\u001b[0m \u001b[0;34m\u001b[0m\u001b[0m\n\u001b[1;32m   5467\u001b[0m     \u001b[0;32mdef\u001b[0m \u001b[0m__setattr__\u001b[0m\u001b[0;34m(\u001b[0m\u001b[0mself\u001b[0m\u001b[0;34m,\u001b[0m \u001b[0mname\u001b[0m\u001b[0;34m:\u001b[0m \u001b[0mstr\u001b[0m\u001b[0;34m,\u001b[0m \u001b[0mvalue\u001b[0m\u001b[0;34m)\u001b[0m \u001b[0;34m->\u001b[0m \u001b[0;32mNone\u001b[0m\u001b[0;34m:\u001b[0m\u001b[0;34m\u001b[0m\u001b[0;34m\u001b[0m\u001b[0m\n",
      "\u001b[0;31mAttributeError\u001b[0m: 'DataFrame' object has no attribute 'p'"
     ]
    }
   ],
   "source": [
    "group_by_source = costs.p"
   ]
  },
  {
   "cell_type": "markdown",
   "id": "respiratory-windows",
   "metadata": {},
   "source": [
    "#### 2.3.2. Рассчитайте средний CAC на одного покупателя для всего проекта и для каждого источника трафика. Отразите изменения метрик на графиках\n",
    "<a id=\"2.3.2\"></a>"
   ]
  },
  {
   "cell_type": "markdown",
   "id": "complicated-softball",
   "metadata": {},
   "source": [
    "#### 2.3.3. Рассчитайте ROMI по когортам в разрезе источников. Сравните окупаемость за одинаковые периоды жизни когорт. \n",
    "<a id=\"2.3.3\"></a>"
   ]
  },
  {
   "cell_type": "code",
   "execution_count": null,
   "id": "overall-garlic",
   "metadata": {},
   "outputs": [],
   "source": []
  },
  {
   "cell_type": "markdown",
   "id": "polish-wages",
   "metadata": {},
   "source": [
    "## Шаг 3. Сформулируйте выводы и рекомендации\n",
    "<a id=\"3\"></a>"
   ]
  },
  {
   "cell_type": "markdown",
   "id": "olympic-chancellor",
   "metadata": {},
   "source": [
    "### 3.1. Определите источники трафика, на которые маркетологам стоит делать упор. Объясните свой выбор: на какие метрики вы ориентируетесь и почему\n",
    "<a id=\"3.1\"></a>"
   ]
  },
  {
   "cell_type": "markdown",
   "id": "southeast-mongolia",
   "metadata": {},
   "source": [
    "### 3.2. Опишите выводы, которые вы сделали после подсчёта метрик каждого вида: маркетинговых, продуктовых и метрик электронной коммерции\n",
    "<a id=\"3.2\"></a>"
   ]
  },
  {
   "cell_type": "markdown",
   "id": "instant-niger",
   "metadata": {},
   "source": [
    "### 3.3. Подведите итоги когортного анализа. Определите самые перспективные для компании когорты клиентов\n",
    "<a id=\"3.3\"></a>"
   ]
  },
  {
   "cell_type": "markdown",
   "id": "moved-witness",
   "metadata": {},
   "source": [
    "# Чек лист готовности проекта\n",
    "- [x]  подготовили данные к анализу,\n",
    "- [ ]  выбрали подходящие типы визуализации,\n",
    "- [ ]  верно интерпретировали графики,\n",
    "- [ ]  правильно рассчитали и проанализировали метрики,\n",
    "- [ ]  аргументировали метриками рекомендации маркетологам,\n",
    "- [ ]  сформировали логичную структуру проекта,\n",
    "- [ ]  написали «чистый» и эффективный код,\n",
    "- [ ]  оставили комментарии,\n",
    "- [ ]  сделали корректные выводы."
   ]
  },
  {
   "cell_type": "code",
   "execution_count": null,
   "id": "according-restaurant",
   "metadata": {},
   "outputs": [],
   "source": []
  }
 ],
 "metadata": {
  "kernelspec": {
   "display_name": "Python 3",
   "language": "python",
   "name": "python3"
  },
  "language_info": {
   "codemirror_mode": {
    "name": "ipython",
    "version": 3
   },
   "file_extension": ".py",
   "mimetype": "text/x-python",
   "name": "python",
   "nbconvert_exporter": "python",
   "pygments_lexer": "ipython3",
   "version": "3.7.3"
  }
 },
 "nbformat": 4,
 "nbformat_minor": 5
}
